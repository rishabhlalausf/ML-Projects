{
 "cells": [
  {
   "cell_type": "markdown",
   "metadata": {},
   "source": [
    "# Project - Autoencoder"
   ]
  },
  {
   "cell_type": "markdown",
   "metadata": {},
   "source": [
    "The data set for this exercise is from the banking industry. It contains data about the home loans of 2,500 bank clients. Each row represents a single loan. The columns include the characteristics of the client who used a loan. We will build an autoencoder to learn the representation of good loans. That way, we can see if an unknown loan will be a good or bad loan based on its reconstruction error.  \n",
    "\n",
    "Note: in the data set, we don't have a column that indicates whether a loan is \"good\" or \"bad\". So, we can't train a classification model like we did before."
   ]
  },
  {
   "cell_type": "markdown",
   "metadata": {},
   "source": [
    "## Description of Variables\n",
    "\n",
    "The description of variables are provided in \"Loan - Data Dictionary.docx\""
   ]
  },
  {
   "cell_type": "markdown",
   "metadata": {},
   "source": [
    "# Read and Prepare the Data"
   ]
  },
  {
   "cell_type": "code",
   "execution_count": 1,
   "metadata": {},
   "outputs": [
    {
     "name": "stderr",
     "output_type": "stream",
     "text": [
      "C:\\Users\\Rishabh\\anaconda3\\Lib\\site-packages\\pandas\\core\\arrays\\masked.py:60: UserWarning: Pandas requires version '1.3.6' or newer of 'bottleneck' (version '1.3.5' currently installed).\n",
      "  from pandas.core import (\n"
     ]
    }
   ],
   "source": [
    "# Common imports\n",
    "\n",
    "import pandas as pd\n",
    "import numpy as np\n",
    "\n",
    "np.random.seed(42)"
   ]
  },
  {
   "cell_type": "markdown",
   "metadata": {},
   "source": [
    "# Get the data"
   ]
  },
  {
   "cell_type": "code",
   "execution_count": 2,
   "metadata": {},
   "outputs": [],
   "source": [
    "good = pd.read_csv('good loans.csv')\n",
    "\n",
    "unknown = pd.read_csv('unknown loans.csv')"
   ]
  },
  {
   "cell_type": "code",
   "execution_count": 3,
   "metadata": {},
   "outputs": [
    {
     "data": {
      "text/html": [
       "<div>\n",
       "<style scoped>\n",
       "    .dataframe tbody tr th:only-of-type {\n",
       "        vertical-align: middle;\n",
       "    }\n",
       "\n",
       "    .dataframe tbody tr th {\n",
       "        vertical-align: top;\n",
       "    }\n",
       "\n",
       "    .dataframe thead th {\n",
       "        text-align: right;\n",
       "    }\n",
       "</style>\n",
       "<table border=\"1\" class=\"dataframe\">\n",
       "  <thead>\n",
       "    <tr style=\"text-align: right;\">\n",
       "      <th></th>\n",
       "      <th>LOAN</th>\n",
       "      <th>MORTDUE</th>\n",
       "      <th>VALUE</th>\n",
       "      <th>REASON</th>\n",
       "      <th>JOB</th>\n",
       "      <th>YOJ</th>\n",
       "      <th>DEROG</th>\n",
       "      <th>DELINQ</th>\n",
       "      <th>CLAGE</th>\n",
       "      <th>NINQ</th>\n",
       "      <th>CLNO</th>\n",
       "      <th>DEBTINC</th>\n",
       "    </tr>\n",
       "  </thead>\n",
       "  <tbody>\n",
       "    <tr>\n",
       "      <th>0</th>\n",
       "      <td>25900</td>\n",
       "      <td>61064.0</td>\n",
       "      <td>94714.0</td>\n",
       "      <td>DebtCon</td>\n",
       "      <td>Office</td>\n",
       "      <td>2.0</td>\n",
       "      <td>0.0</td>\n",
       "      <td>0.0</td>\n",
       "      <td>98.809375</td>\n",
       "      <td>0.0</td>\n",
       "      <td>23.0</td>\n",
       "      <td>34.565944</td>\n",
       "    </tr>\n",
       "    <tr>\n",
       "      <th>1</th>\n",
       "      <td>26100</td>\n",
       "      <td>113266.0</td>\n",
       "      <td>182082.0</td>\n",
       "      <td>DebtCon</td>\n",
       "      <td>Sales</td>\n",
       "      <td>18.0</td>\n",
       "      <td>0.0</td>\n",
       "      <td>0.0</td>\n",
       "      <td>304.852469</td>\n",
       "      <td>1.0</td>\n",
       "      <td>31.0</td>\n",
       "      <td>33.193949</td>\n",
       "    </tr>\n",
       "    <tr>\n",
       "      <th>2</th>\n",
       "      <td>20900</td>\n",
       "      <td>62615.0</td>\n",
       "      <td>87904.0</td>\n",
       "      <td>DebtCon</td>\n",
       "      <td>Office</td>\n",
       "      <td>5.0</td>\n",
       "      <td>NaN</td>\n",
       "      <td>NaN</td>\n",
       "      <td>177.864849</td>\n",
       "      <td>NaN</td>\n",
       "      <td>15.0</td>\n",
       "      <td>36.831076</td>\n",
       "    </tr>\n",
       "    <tr>\n",
       "      <th>3</th>\n",
       "      <td>25300</td>\n",
       "      <td>62540.0</td>\n",
       "      <td>101165.0</td>\n",
       "      <td>DebtCon</td>\n",
       "      <td>ProfExe</td>\n",
       "      <td>0.0</td>\n",
       "      <td>0.0</td>\n",
       "      <td>0.0</td>\n",
       "      <td>195.451331</td>\n",
       "      <td>0.0</td>\n",
       "      <td>25.0</td>\n",
       "      <td>35.200865</td>\n",
       "    </tr>\n",
       "    <tr>\n",
       "      <th>4</th>\n",
       "      <td>27700</td>\n",
       "      <td>73148.0</td>\n",
       "      <td>101462.0</td>\n",
       "      <td>DebtCon</td>\n",
       "      <td>ProfExe</td>\n",
       "      <td>10.0</td>\n",
       "      <td>0.0</td>\n",
       "      <td>0.0</td>\n",
       "      <td>264.605389</td>\n",
       "      <td>0.0</td>\n",
       "      <td>33.0</td>\n",
       "      <td>40.475793</td>\n",
       "    </tr>\n",
       "  </tbody>\n",
       "</table>\n",
       "</div>"
      ],
      "text/plain": [
       "    LOAN   MORTDUE     VALUE   REASON      JOB   YOJ  DEROG  DELINQ  \\\n",
       "0  25900   61064.0   94714.0  DebtCon   Office   2.0    0.0     0.0   \n",
       "1  26100  113266.0  182082.0  DebtCon    Sales  18.0    0.0     0.0   \n",
       "2  20900   62615.0   87904.0  DebtCon   Office   5.0    NaN     NaN   \n",
       "3  25300   62540.0  101165.0  DebtCon  ProfExe   0.0    0.0     0.0   \n",
       "4  27700   73148.0  101462.0  DebtCon  ProfExe  10.0    0.0     0.0   \n",
       "\n",
       "        CLAGE  NINQ  CLNO    DEBTINC  \n",
       "0   98.809375   0.0  23.0  34.565944  \n",
       "1  304.852469   1.0  31.0  33.193949  \n",
       "2  177.864849   NaN  15.0  36.831076  \n",
       "3  195.451331   0.0  25.0  35.200865  \n",
       "4  264.605389   0.0  33.0  40.475793  "
      ]
     },
     "execution_count": 3,
     "metadata": {},
     "output_type": "execute_result"
    }
   ],
   "source": [
    "# Note that there is no GOOD/BAD classification. Though, we know that\n",
    "# these loans are good\n",
    "\n",
    "good.head()"
   ]
  },
  {
   "cell_type": "code",
   "execution_count": 4,
   "metadata": {},
   "outputs": [
    {
     "data": {
      "text/plain": [
       "(1489, 12)"
      ]
     },
     "execution_count": 4,
     "metadata": {},
     "output_type": "execute_result"
    }
   ],
   "source": [
    "good.shape"
   ]
  },
  {
   "cell_type": "code",
   "execution_count": 5,
   "metadata": {},
   "outputs": [
    {
     "data": {
      "text/plain": [
       "(1011, 12)"
      ]
     },
     "execution_count": 5,
     "metadata": {},
     "output_type": "execute_result"
    }
   ],
   "source": [
    "unknown.shape"
   ]
  },
  {
   "cell_type": "markdown",
   "metadata": {},
   "source": [
    "# Data Prep"
   ]
  },
  {
   "cell_type": "code",
   "execution_count": 6,
   "metadata": {},
   "outputs": [],
   "source": [
    "from sklearn.compose import ColumnTransformer\n",
    "from sklearn.pipeline import Pipeline\n",
    "from sklearn.impute import SimpleImputer\n",
    "from sklearn.preprocessing import StandardScaler\n",
    "from sklearn.preprocessing import OneHotEncoder"
   ]
  },
  {
   "cell_type": "markdown",
   "metadata": {},
   "source": [
    "##  Identify the numeric, binary, and categorical columns"
   ]
  },
  {
   "cell_type": "code",
   "execution_count": 7,
   "metadata": {},
   "outputs": [],
   "source": [
    "# Identify the numerical columns\n",
    "numeric_columns = good.select_dtypes(include=[np.number]).columns.to_list()\n",
    "\n",
    "# Identify the categorical columns\n",
    "categorical_columns = good.select_dtypes('object').columns.to_list()"
   ]
  },
  {
   "cell_type": "code",
   "execution_count": 8,
   "metadata": {},
   "outputs": [
    {
     "data": {
      "text/plain": [
       "['LOAN',\n",
       " 'MORTDUE',\n",
       " 'VALUE',\n",
       " 'YOJ',\n",
       " 'DEROG',\n",
       " 'DELINQ',\n",
       " 'CLAGE',\n",
       " 'NINQ',\n",
       " 'CLNO',\n",
       " 'DEBTINC']"
      ]
     },
     "execution_count": 8,
     "metadata": {},
     "output_type": "execute_result"
    }
   ],
   "source": [
    "numeric_columns"
   ]
  },
  {
   "cell_type": "code",
   "execution_count": 9,
   "metadata": {},
   "outputs": [
    {
     "data": {
      "text/plain": [
       "['REASON', 'JOB']"
      ]
     },
     "execution_count": 9,
     "metadata": {},
     "output_type": "execute_result"
    }
   ],
   "source": [
    "categorical_columns"
   ]
  },
  {
   "cell_type": "markdown",
   "metadata": {},
   "source": [
    "# Pipeline"
   ]
  },
  {
   "cell_type": "code",
   "execution_count": 10,
   "metadata": {},
   "outputs": [],
   "source": [
    "numeric_transformer = Pipeline(steps=[\n",
    "                ('imputer', SimpleImputer(strategy='median')),\n",
    "                ('scaler', StandardScaler())])"
   ]
  },
  {
   "cell_type": "code",
   "execution_count": 11,
   "metadata": {},
   "outputs": [],
   "source": [
    "categorical_transformer = Pipeline(steps=[\n",
    "    ('imputer', SimpleImputer(strategy='constant', fill_value='unknown')),\n",
    "    ('onehot', OneHotEncoder(handle_unknown='ignore'))])"
   ]
  },
  {
   "cell_type": "code",
   "execution_count": 12,
   "metadata": {},
   "outputs": [],
   "source": [
    "preprocessor = ColumnTransformer([\n",
    "        ('num', numeric_transformer, numeric_columns),\n",
    "        ('cat', categorical_transformer, categorical_columns)],   \n",
    "        remainder='passthrough')\n",
    "\n",
    "#passtrough is an optional step."
   ]
  },
  {
   "cell_type": "markdown",
   "metadata": {},
   "source": [
    "# Transform: fit_transform() for GOOD"
   ]
  },
  {
   "cell_type": "code",
   "execution_count": 13,
   "metadata": {},
   "outputs": [
    {
     "data": {
      "text/plain": [
       "array([[ 0.6365782 , -0.29793911, -0.12177109, ...,  0.        ,\n",
       "         0.        ,  0.        ],\n",
       "       [ 0.6546228 ,  1.02893596,  1.62034212, ...,  1.        ,\n",
       "         0.        ,  0.        ],\n",
       "       [ 0.18546313, -0.25851565, -0.25756212, ...,  0.        ,\n",
       "         0.        ,  0.        ],\n",
       "       ...,\n",
       "       [ 4.18234262, -0.04383447,  0.81444926, ...,  0.        ,\n",
       "         0.        ,  0.        ],\n",
       "       [-1.30321659, -0.47828045, -0.73681873, ...,  0.        ,\n",
       "         0.        ,  0.        ],\n",
       "       [ 0.03208401, -0.46521555, -0.38146895, ...,  0.        ,\n",
       "         0.        ,  0.        ]])"
      ]
     },
     "execution_count": 13,
     "metadata": {},
     "output_type": "execute_result"
    }
   ],
   "source": [
    "#Fit and transform the train data\n",
    "good_x = preprocessor.fit_transform(good)\n",
    "\n",
    "good_x"
   ]
  },
  {
   "cell_type": "code",
   "execution_count": null,
   "metadata": {},
   "outputs": [],
   "source": [
    "good_x.shape"
   ]
  },
  {
   "cell_type": "markdown",
   "metadata": {},
   "source": [
    "# Tranform: transform() for UNKNOWN"
   ]
  },
  {
   "cell_type": "code",
   "execution_count": 14,
   "metadata": {},
   "outputs": [
    {
     "data": {
      "text/plain": [
       "array([[ 2.81095281,  3.755331  ,  3.98956663, ...,  0.        ,\n",
       "         1.        ,  0.        ],\n",
       "       [ 0.32079765, -0.54180025, -0.65167516, ...,  0.        ,\n",
       "         0.        ,  0.        ],\n",
       "       [ 0.19448543,  0.59006724,  0.48213012, ...,  1.        ,\n",
       "         0.        ,  0.        ],\n",
       "       ...,\n",
       "       [-0.79796772,  0.05628738,  0.05541527, ...,  0.        ,\n",
       "         0.        ,  0.        ],\n",
       "       [-0.16640662, -0.510536  , -0.45504735, ...,  0.        ,\n",
       "         0.        ,  0.        ],\n",
       "       [-0.81601232, -0.92230904, -0.93360606, ...,  0.        ,\n",
       "         0.        ,  0.        ]])"
      ]
     },
     "execution_count": 14,
     "metadata": {},
     "output_type": "execute_result"
    }
   ],
   "source": [
    "# Transform the test data\n",
    "unknown_x = preprocessor.transform(unknown)\n",
    "\n",
    "unknown_x"
   ]
  },
  {
   "cell_type": "code",
   "execution_count": 15,
   "metadata": {},
   "outputs": [
    {
     "data": {
      "text/plain": [
       "(1011, 20)"
      ]
     },
     "execution_count": 15,
     "metadata": {},
     "output_type": "execute_result"
    }
   ],
   "source": [
    "unknown_x.shape"
   ]
  },
  {
   "cell_type": "markdown",
   "metadata": {},
   "source": [
    "# Build an Autoencoder to learn the representation of GOOD loans"
   ]
  },
  {
   "cell_type": "code",
   "execution_count": 16,
   "metadata": {},
   "outputs": [
    {
     "name": "stdout",
     "output_type": "stream",
     "text": [
      "WARNING:tensorflow:From C:\\Users\\Rishabh\\anaconda3\\Lib\\site-packages\\keras\\src\\losses.py:2976: The name tf.losses.sparse_softmax_cross_entropy is deprecated. Please use tf.compat.v1.losses.sparse_softmax_cross_entropy instead.\n",
      "\n"
     ]
    }
   ],
   "source": [
    "import tensorflow as tf\n",
    "from tensorflow import keras"
   ]
  },
  {
   "cell_type": "code",
   "execution_count": 20,
   "metadata": {},
   "outputs": [
    {
     "name": "stdout",
     "output_type": "stream",
     "text": [
      "Model: \"sequential_3\"\n",
      "_________________________________________________________________\n",
      " Layer (type)                Output Shape              Param #   \n",
      "=================================================================\n",
      " dense_12 (Dense)            (None, 18)                378       \n",
      "                                                                 \n",
      " dense_13 (Dense)            (None, 17)                323       \n",
      "                                                                 \n",
      " dense_14 (Dense)            (None, 18)                324       \n",
      "                                                                 \n",
      " dense_15 (Dense)            (None, 20)                380       \n",
      "                                                                 \n",
      "=================================================================\n",
      "Total params: 1405 (5.49 KB)\n",
      "Trainable params: 1405 (5.49 KB)\n",
      "Non-trainable params: 0 (0.00 Byte)\n",
      "_________________________________________________________________\n"
     ]
    }
   ],
   "source": [
    "model = keras.models.Sequential()\n",
    "\n",
    "#Encoder\n",
    "model.add(keras.layers.InputLayer(input_shape=20))\n",
    "model.add(keras.layers.Dense(18, activation='relu'))\n",
    "model.add(keras.layers.Dense(17, activation='relu'))\n",
    "\n",
    "#Decoder\n",
    "model.add(keras.layers.Dense(18, activation='relu'))\n",
    "model.add(keras.layers.Dense(20, activation=None))\n",
    "\n",
    "model.summary()"
   ]
  },
  {
   "cell_type": "code",
   "execution_count": 21,
   "metadata": {},
   "outputs": [],
   "source": [
    "adam = keras.optimizers.Adam(learning_rate=0.001)\n",
    "\n",
    "\n",
    "model.compile(loss='mse', optimizer=adam, metrics=['mean_squared_error'])"
   ]
  },
  {
   "cell_type": "code",
   "execution_count": 22,
   "metadata": {},
   "outputs": [],
   "source": [
    "from tensorflow.keras.callbacks import EarlyStopping\n",
    "\n",
    "earlystop = EarlyStopping(monitor='val_loss', patience=5, verbose=1, mode='auto')\n",
    "\n",
    "callback = [earlystop]"
   ]
  },
  {
   "cell_type": "markdown",
   "metadata": {},
   "source": [
    "### Check the average MSE on the \"good\" loans"
   ]
  },
  {
   "cell_type": "code",
   "execution_count": 24,
   "metadata": {},
   "outputs": [
    {
     "name": "stdout",
     "output_type": "stream",
     "text": [
      "Epoch 1/100\n",
      "WARNING:tensorflow:From C:\\Users\\Rishabh\\anaconda3\\Lib\\site-packages\\keras\\src\\utils\\tf_utils.py:492: The name tf.ragged.RaggedTensorValue is deprecated. Please use tf.compat.v1.ragged.RaggedTensorValue instead.\n",
      "\n",
      "WARNING:tensorflow:From C:\\Users\\Rishabh\\anaconda3\\Lib\\site-packages\\keras\\src\\engine\\base_layer_utils.py:384: The name tf.executing_eagerly_outside_functions is deprecated. Please use tf.compat.v1.executing_eagerly_outside_functions instead.\n",
      "\n",
      "15/15 [==============================] - 26s 796ms/step - loss: 0.6475 - mean_squared_error: 0.6475 - val_loss: 0.6148 - val_mean_squared_error: 0.6148\n",
      "Epoch 2/100\n",
      "15/15 [==============================] - 10s 744ms/step - loss: 0.5990 - mean_squared_error: 0.5990 - val_loss: 0.5839 - val_mean_squared_error: 0.5839\n",
      "Epoch 3/100\n",
      "15/15 [==============================] - 5s 378ms/step - loss: 0.5743 - mean_squared_error: 0.5743 - val_loss: 0.5633 - val_mean_squared_error: 0.5633\n",
      "Epoch 4/100\n",
      "15/15 [==============================] - 5s 378ms/step - loss: 0.5544 - mean_squared_error: 0.5544 - val_loss: 0.5428 - val_mean_squared_error: 0.5428\n",
      "Epoch 5/100\n",
      "15/15 [==============================] - 6s 398ms/step - loss: 0.5328 - mean_squared_error: 0.5328 - val_loss: 0.5198 - val_mean_squared_error: 0.5198\n",
      "Epoch 6/100\n",
      "15/15 [==============================] - 5s 346ms/step - loss: 0.5073 - mean_squared_error: 0.5073 - val_loss: 0.4917 - val_mean_squared_error: 0.4917\n",
      "Epoch 7/100\n",
      "15/15 [==============================] - 5s 374ms/step - loss: 0.4774 - mean_squared_error: 0.4774 - val_loss: 0.4605 - val_mean_squared_error: 0.4605\n",
      "Epoch 8/100\n",
      "15/15 [==============================] - 10s 744ms/step - loss: 0.4464 - mean_squared_error: 0.4464 - val_loss: 0.4285 - val_mean_squared_error: 0.4285\n",
      "Epoch 9/100\n",
      "15/15 [==============================] - 5s 385ms/step - loss: 0.4144 - mean_squared_error: 0.4144 - val_loss: 0.3976 - val_mean_squared_error: 0.3976\n",
      "Epoch 10/100\n",
      "15/15 [==============================] - 6s 428ms/step - loss: 0.3840 - mean_squared_error: 0.3840 - val_loss: 0.3672 - val_mean_squared_error: 0.3672\n",
      "Epoch 11/100\n",
      "15/15 [==============================] - 6s 415ms/step - loss: 0.3545 - mean_squared_error: 0.3545 - val_loss: 0.3380 - val_mean_squared_error: 0.3380\n",
      "Epoch 12/100\n",
      "15/15 [==============================] - 5s 386ms/step - loss: 0.3259 - mean_squared_error: 0.3259 - val_loss: 0.3108 - val_mean_squared_error: 0.3108\n",
      "Epoch 13/100\n",
      "15/15 [==============================] - 6s 397ms/step - loss: 0.2995 - mean_squared_error: 0.2995 - val_loss: 0.2846 - val_mean_squared_error: 0.2846\n",
      "Epoch 14/100\n",
      "15/15 [==============================] - 5s 374ms/step - loss: 0.2740 - mean_squared_error: 0.2740 - val_loss: 0.2617 - val_mean_squared_error: 0.2617\n",
      "Epoch 15/100\n",
      "15/15 [==============================] - 10s 746ms/step - loss: 0.2526 - mean_squared_error: 0.2526 - val_loss: 0.2407 - val_mean_squared_error: 0.2407\n",
      "Epoch 16/100\n",
      "15/15 [==============================] - 5s 381ms/step - loss: 0.2329 - mean_squared_error: 0.2329 - val_loss: 0.2232 - val_mean_squared_error: 0.2232\n",
      "Epoch 17/100\n",
      "15/15 [==============================] - 6s 393ms/step - loss: 0.2162 - mean_squared_error: 0.2162 - val_loss: 0.2074 - val_mean_squared_error: 0.2074\n",
      "Epoch 18/100\n",
      "15/15 [==============================] - 5s 382ms/step - loss: 0.2015 - mean_squared_error: 0.2015 - val_loss: 0.1932 - val_mean_squared_error: 0.1932\n",
      "Epoch 19/100\n",
      "15/15 [==============================] - 10s 747ms/step - loss: 0.1880 - mean_squared_error: 0.1880 - val_loss: 0.1808 - val_mean_squared_error: 0.1808\n",
      "Epoch 20/100\n",
      "15/15 [==============================] - 5s 392ms/step - loss: 0.1762 - mean_squared_error: 0.1762 - val_loss: 0.1699 - val_mean_squared_error: 0.1699\n",
      "Epoch 21/100\n",
      "15/15 [==============================] - 5s 388ms/step - loss: 0.1659 - mean_squared_error: 0.1659 - val_loss: 0.1595 - val_mean_squared_error: 0.1595\n",
      "Epoch 22/100\n",
      "15/15 [==============================] - 5s 383ms/step - loss: 0.1557 - mean_squared_error: 0.1557 - val_loss: 0.1504 - val_mean_squared_error: 0.1504\n",
      "Epoch 23/100\n",
      "15/15 [==============================] - 6s 407ms/step - loss: 0.1470 - mean_squared_error: 0.1470 - val_loss: 0.1420 - val_mean_squared_error: 0.1420\n",
      "Epoch 24/100\n",
      "15/15 [==============================] - 5s 383ms/step - loss: 0.1387 - mean_squared_error: 0.1387 - val_loss: 0.1340 - val_mean_squared_error: 0.1340\n",
      "Epoch 25/100\n",
      "15/15 [==============================] - 5s 383ms/step - loss: 0.1312 - mean_squared_error: 0.1312 - val_loss: 0.1264 - val_mean_squared_error: 0.1264\n",
      "Epoch 26/100\n",
      "15/15 [==============================] - 6s 409ms/step - loss: 0.1236 - mean_squared_error: 0.1236 - val_loss: 0.1188 - val_mean_squared_error: 0.1188\n",
      "Epoch 27/100\n",
      "15/15 [==============================] - 6s 447ms/step - loss: 0.1160 - mean_squared_error: 0.1160 - val_loss: 0.1118 - val_mean_squared_error: 0.1118\n",
      "Epoch 28/100\n",
      "15/15 [==============================] - 6s 434ms/step - loss: 0.1085 - mean_squared_error: 0.1085 - val_loss: 0.1043 - val_mean_squared_error: 0.1043\n",
      "Epoch 29/100\n",
      "15/15 [==============================] - 5s 361ms/step - loss: 0.1011 - mean_squared_error: 0.1011 - val_loss: 0.0971 - val_mean_squared_error: 0.0971\n",
      "Epoch 30/100\n",
      "15/15 [==============================] - 5s 352ms/step - loss: 0.0942 - mean_squared_error: 0.0942 - val_loss: 0.0905 - val_mean_squared_error: 0.0905\n",
      "Epoch 31/100\n",
      "15/15 [==============================] - 5s 381ms/step - loss: 0.0881 - mean_squared_error: 0.0881 - val_loss: 0.0849 - val_mean_squared_error: 0.0849\n",
      "Epoch 32/100\n",
      "15/15 [==============================] - 5s 361ms/step - loss: 0.0827 - mean_squared_error: 0.0827 - val_loss: 0.0801 - val_mean_squared_error: 0.0801\n",
      "Epoch 33/100\n",
      "15/15 [==============================] - 6s 450ms/step - loss: 0.0784 - mean_squared_error: 0.0784 - val_loss: 0.0762 - val_mean_squared_error: 0.0762\n",
      "Epoch 34/100\n",
      "15/15 [==============================] - 6s 402ms/step - loss: 0.0748 - mean_squared_error: 0.0748 - val_loss: 0.0728 - val_mean_squared_error: 0.0728\n",
      "Epoch 35/100\n",
      "15/15 [==============================] - 5s 367ms/step - loss: 0.0718 - mean_squared_error: 0.0718 - val_loss: 0.0702 - val_mean_squared_error: 0.0702\n",
      "Epoch 36/100\n",
      "15/15 [==============================] - 5s 362ms/step - loss: 0.0691 - mean_squared_error: 0.0691 - val_loss: 0.0676 - val_mean_squared_error: 0.0676\n",
      "Epoch 37/100\n",
      "15/15 [==============================] - 6s 456ms/step - loss: 0.0667 - mean_squared_error: 0.0667 - val_loss: 0.0655 - val_mean_squared_error: 0.0655\n",
      "Epoch 38/100\n",
      "15/15 [==============================] - 5s 340ms/step - loss: 0.0646 - mean_squared_error: 0.0646 - val_loss: 0.0634 - val_mean_squared_error: 0.0634\n",
      "Epoch 39/100\n",
      "15/15 [==============================] - 5s 339ms/step - loss: 0.0627 - mean_squared_error: 0.0627 - val_loss: 0.0612 - val_mean_squared_error: 0.0612\n",
      "Epoch 40/100\n",
      "15/15 [==============================] - 5s 379ms/step - loss: 0.0610 - mean_squared_error: 0.0610 - val_loss: 0.0599 - val_mean_squared_error: 0.0599\n",
      "Epoch 41/100\n",
      "15/15 [==============================] - 11s 752ms/step - loss: 0.0592 - mean_squared_error: 0.0592 - val_loss: 0.0579 - val_mean_squared_error: 0.0579\n",
      "Epoch 42/100\n",
      "15/15 [==============================] - 5s 377ms/step - loss: 0.0575 - mean_squared_error: 0.0575 - val_loss: 0.0565 - val_mean_squared_error: 0.0565\n",
      "Epoch 43/100\n",
      "15/15 [==============================] - 5s 358ms/step - loss: 0.0561 - mean_squared_error: 0.0561 - val_loss: 0.0553 - val_mean_squared_error: 0.0553\n",
      "Epoch 44/100\n",
      "15/15 [==============================] - 5s 355ms/step - loss: 0.0548 - mean_squared_error: 0.0548 - val_loss: 0.0541 - val_mean_squared_error: 0.0541\n",
      "Epoch 45/100\n",
      "15/15 [==============================] - 5s 357ms/step - loss: 0.0539 - mean_squared_error: 0.0539 - val_loss: 0.0532 - val_mean_squared_error: 0.0532\n",
      "Epoch 46/100\n",
      "15/15 [==============================] - 5s 359ms/step - loss: 0.0530 - mean_squared_error: 0.0530 - val_loss: 0.0522 - val_mean_squared_error: 0.0522\n",
      "Epoch 47/100\n",
      "15/15 [==============================] - 4s 317ms/step - loss: 0.0521 - mean_squared_error: 0.0521 - val_loss: 0.0514 - val_mean_squared_error: 0.0514\n",
      "Epoch 48/100\n"
     ]
    },
    {
     "name": "stdout",
     "output_type": "stream",
     "text": [
      "15/15 [==============================] - 4s 288ms/step - loss: 0.0514 - mean_squared_error: 0.0514 - val_loss: 0.0506 - val_mean_squared_error: 0.0506\n",
      "Epoch 49/100\n",
      "15/15 [==============================] - 5s 342ms/step - loss: 0.0504 - mean_squared_error: 0.0504 - val_loss: 0.0497 - val_mean_squared_error: 0.0497\n",
      "Epoch 50/100\n",
      "15/15 [==============================] - 5s 380ms/step - loss: 0.0495 - mean_squared_error: 0.0495 - val_loss: 0.0490 - val_mean_squared_error: 0.0490\n",
      "Epoch 51/100\n",
      "15/15 [==============================] - 5s 362ms/step - loss: 0.0486 - mean_squared_error: 0.0486 - val_loss: 0.0481 - val_mean_squared_error: 0.0481\n",
      "Epoch 52/100\n",
      "15/15 [==============================] - 5s 351ms/step - loss: 0.0480 - mean_squared_error: 0.0480 - val_loss: 0.0472 - val_mean_squared_error: 0.0472\n",
      "Epoch 53/100\n",
      "15/15 [==============================] - 5s 354ms/step - loss: 0.0472 - mean_squared_error: 0.0472 - val_loss: 0.0467 - val_mean_squared_error: 0.0467\n",
      "Epoch 54/100\n",
      "15/15 [==============================] - 5s 387ms/step - loss: 0.0466 - mean_squared_error: 0.0466 - val_loss: 0.0458 - val_mean_squared_error: 0.0458\n",
      "Epoch 55/100\n",
      "15/15 [==============================] - 5s 362ms/step - loss: 0.0456 - mean_squared_error: 0.0456 - val_loss: 0.0449 - val_mean_squared_error: 0.0449\n",
      "Epoch 56/100\n",
      "15/15 [==============================] - 5s 351ms/step - loss: 0.0448 - mean_squared_error: 0.0448 - val_loss: 0.0445 - val_mean_squared_error: 0.0445\n",
      "Epoch 57/100\n",
      "15/15 [==============================] - 5s 359ms/step - loss: 0.0442 - mean_squared_error: 0.0442 - val_loss: 0.0439 - val_mean_squared_error: 0.0439\n",
      "Epoch 58/100\n",
      "15/15 [==============================] - 5s 373ms/step - loss: 0.0437 - mean_squared_error: 0.0437 - val_loss: 0.0433 - val_mean_squared_error: 0.0433\n",
      "Epoch 59/100\n",
      "15/15 [==============================] - 5s 366ms/step - loss: 0.0429 - mean_squared_error: 0.0429 - val_loss: 0.0424 - val_mean_squared_error: 0.0424\n",
      "Epoch 60/100\n",
      "15/15 [==============================] - 5s 369ms/step - loss: 0.0421 - mean_squared_error: 0.0421 - val_loss: 0.0418 - val_mean_squared_error: 0.0418\n",
      "Epoch 61/100\n",
      "15/15 [==============================] - 5s 350ms/step - loss: 0.0415 - mean_squared_error: 0.0415 - val_loss: 0.0410 - val_mean_squared_error: 0.0410\n",
      "Epoch 62/100\n",
      "15/15 [==============================] - 5s 369ms/step - loss: 0.0408 - mean_squared_error: 0.0408 - val_loss: 0.0403 - val_mean_squared_error: 0.0403\n",
      "Epoch 63/100\n",
      "15/15 [==============================] - 5s 351ms/step - loss: 0.0402 - mean_squared_error: 0.0402 - val_loss: 0.0396 - val_mean_squared_error: 0.0396\n",
      "Epoch 64/100\n",
      "15/15 [==============================] - 5s 352ms/step - loss: 0.0394 - mean_squared_error: 0.0394 - val_loss: 0.0392 - val_mean_squared_error: 0.0392\n",
      "Epoch 65/100\n",
      "15/15 [==============================] - 5s 356ms/step - loss: 0.0387 - mean_squared_error: 0.0387 - val_loss: 0.0382 - val_mean_squared_error: 0.0382\n",
      "Epoch 66/100\n",
      "15/15 [==============================] - 5s 360ms/step - loss: 0.0379 - mean_squared_error: 0.0379 - val_loss: 0.0373 - val_mean_squared_error: 0.0373\n",
      "Epoch 67/100\n",
      "15/15 [==============================] - 5s 357ms/step - loss: 0.0372 - mean_squared_error: 0.0372 - val_loss: 0.0366 - val_mean_squared_error: 0.0366\n",
      "Epoch 68/100\n",
      "15/15 [==============================] - 5s 358ms/step - loss: 0.0365 - mean_squared_error: 0.0365 - val_loss: 0.0358 - val_mean_squared_error: 0.0358\n",
      "Epoch 69/100\n",
      "15/15 [==============================] - 5s 367ms/step - loss: 0.0357 - mean_squared_error: 0.0357 - val_loss: 0.0355 - val_mean_squared_error: 0.0355\n",
      "Epoch 70/100\n",
      "15/15 [==============================] - 5s 366ms/step - loss: 0.0351 - mean_squared_error: 0.0351 - val_loss: 0.0347 - val_mean_squared_error: 0.0347\n",
      "Epoch 71/100\n",
      "15/15 [==============================] - 5s 379ms/step - loss: 0.0344 - mean_squared_error: 0.0344 - val_loss: 0.0341 - val_mean_squared_error: 0.0341\n",
      "Epoch 72/100\n",
      "15/15 [==============================] - 5s 357ms/step - loss: 0.0337 - mean_squared_error: 0.0337 - val_loss: 0.0333 - val_mean_squared_error: 0.0333\n",
      "Epoch 73/100\n",
      "15/15 [==============================] - 5s 356ms/step - loss: 0.0333 - mean_squared_error: 0.0333 - val_loss: 0.0328 - val_mean_squared_error: 0.0328\n",
      "Epoch 74/100\n",
      "15/15 [==============================] - 5s 354ms/step - loss: 0.0327 - mean_squared_error: 0.0327 - val_loss: 0.0321 - val_mean_squared_error: 0.0321\n",
      "Epoch 75/100\n",
      "15/15 [==============================] - 6s 394ms/step - loss: 0.0319 - mean_squared_error: 0.0319 - val_loss: 0.0316 - val_mean_squared_error: 0.0316\n",
      "Epoch 76/100\n",
      "15/15 [==============================] - 5s 356ms/step - loss: 0.0315 - mean_squared_error: 0.0315 - val_loss: 0.0311 - val_mean_squared_error: 0.0311\n",
      "Epoch 77/100\n",
      "15/15 [==============================] - 5s 360ms/step - loss: 0.0310 - mean_squared_error: 0.0310 - val_loss: 0.0305 - val_mean_squared_error: 0.0305\n",
      "Epoch 78/100\n",
      "15/15 [==============================] - 5s 356ms/step - loss: 0.0304 - mean_squared_error: 0.0304 - val_loss: 0.0299 - val_mean_squared_error: 0.0299\n",
      "Epoch 79/100\n",
      "15/15 [==============================] - 5s 350ms/step - loss: 0.0299 - mean_squared_error: 0.0299 - val_loss: 0.0295 - val_mean_squared_error: 0.0295\n",
      "Epoch 80/100\n",
      "15/15 [==============================] - 5s 345ms/step - loss: 0.0295 - mean_squared_error: 0.0295 - val_loss: 0.0291 - val_mean_squared_error: 0.0291\n",
      "Epoch 81/100\n",
      "15/15 [==============================] - 5s 347ms/step - loss: 0.0292 - mean_squared_error: 0.0292 - val_loss: 0.0288 - val_mean_squared_error: 0.0288\n",
      "Epoch 82/100\n",
      "15/15 [==============================] - 5s 333ms/step - loss: 0.0288 - mean_squared_error: 0.0288 - val_loss: 0.0284 - val_mean_squared_error: 0.0284\n",
      "Epoch 83/100\n",
      "15/15 [==============================] - 5s 337ms/step - loss: 0.0281 - mean_squared_error: 0.0281 - val_loss: 0.0279 - val_mean_squared_error: 0.0279\n",
      "Epoch 84/100\n",
      "15/15 [==============================] - 5s 345ms/step - loss: 0.0278 - mean_squared_error: 0.0278 - val_loss: 0.0280 - val_mean_squared_error: 0.0280\n",
      "Epoch 85/100\n",
      "15/15 [==============================] - 5s 330ms/step - loss: 0.0277 - mean_squared_error: 0.0277 - val_loss: 0.0272 - val_mean_squared_error: 0.0272\n",
      "Epoch 86/100\n",
      "15/15 [==============================] - 4s 320ms/step - loss: 0.0270 - mean_squared_error: 0.0270 - val_loss: 0.0268 - val_mean_squared_error: 0.0268\n",
      "Epoch 87/100\n",
      "15/15 [==============================] - 5s 331ms/step - loss: 0.0265 - mean_squared_error: 0.0265 - val_loss: 0.0262 - val_mean_squared_error: 0.0262\n",
      "Epoch 88/100\n",
      "15/15 [==============================] - 4s 311ms/step - loss: 0.0262 - mean_squared_error: 0.0262 - val_loss: 0.0260 - val_mean_squared_error: 0.0260\n",
      "Epoch 89/100\n",
      "15/15 [==============================] - 5s 356ms/step - loss: 0.0257 - mean_squared_error: 0.0257 - val_loss: 0.0256 - val_mean_squared_error: 0.0256\n",
      "Epoch 90/100\n",
      "15/15 [==============================] - 4s 318ms/step - loss: 0.0253 - mean_squared_error: 0.0253 - val_loss: 0.0251 - val_mean_squared_error: 0.0251\n",
      "Epoch 91/100\n",
      "15/15 [==============================] - 4s 320ms/step - loss: 0.0249 - mean_squared_error: 0.0249 - val_loss: 0.0246 - val_mean_squared_error: 0.0246\n",
      "Epoch 92/100\n",
      "15/15 [==============================] - 5s 328ms/step - loss: 0.0245 - mean_squared_error: 0.0245 - val_loss: 0.0242 - val_mean_squared_error: 0.0242\n",
      "Epoch 93/100\n",
      "15/15 [==============================] - 4s 316ms/step - loss: 0.0240 - mean_squared_error: 0.0240 - val_loss: 0.0237 - val_mean_squared_error: 0.0237\n",
      "Epoch 94/100\n",
      "15/15 [==============================] - 5s 328ms/step - loss: 0.0237 - mean_squared_error: 0.0237 - val_loss: 0.0233 - val_mean_squared_error: 0.0233\n",
      "Epoch 95/100\n",
      "15/15 [==============================] - 5s 321ms/step - loss: 0.0233 - mean_squared_error: 0.0233 - val_loss: 0.0230 - val_mean_squared_error: 0.0230\n",
      "Epoch 96/100\n",
      "15/15 [==============================] - 4s 316ms/step - loss: 0.0229 - mean_squared_error: 0.0229 - val_loss: 0.0226 - val_mean_squared_error: 0.0226\n",
      "Epoch 97/100\n",
      "15/15 [==============================] - 5s 329ms/step - loss: 0.0225 - mean_squared_error: 0.0225 - val_loss: 0.0223 - val_mean_squared_error: 0.0223\n",
      "Epoch 98/100\n"
     ]
    },
    {
     "name": "stdout",
     "output_type": "stream",
     "text": [
      "15/15 [==============================] - 5s 360ms/step - loss: 0.0220 - mean_squared_error: 0.0220 - val_loss: 0.0219 - val_mean_squared_error: 0.0219\n",
      "Epoch 99/100\n",
      "15/15 [==============================] - 5s 340ms/step - loss: 0.0217 - mean_squared_error: 0.0217 - val_loss: 0.0213 - val_mean_squared_error: 0.0213\n",
      "Epoch 100/100\n",
      "15/15 [==============================] - 4s 318ms/step - loss: 0.0212 - mean_squared_error: 0.0212 - val_loss: 0.0209 - val_mean_squared_error: 0.0209\n"
     ]
    },
    {
     "data": {
      "text/plain": [
       "<keras.src.callbacks.History at 0x1a2f6669010>"
      ]
     },
     "execution_count": 24,
     "metadata": {},
     "output_type": "execute_result"
    }
   ],
   "source": [
    "# Be careful: both input and output are \"good_x\" while training the autoencoder\n",
    "\n",
    "model.fit(good_x, good_x, \n",
    "          validation_data = (good_x, good_x),\n",
    "          epochs=100, batch_size=100, callbacks=callback)"
   ]
  },
  {
   "cell_type": "code",
   "execution_count": 25,
   "metadata": {},
   "outputs": [
    {
     "name": "stdout",
     "output_type": "stream",
     "text": [
      "47/47 [==============================] - 5s 2ms/step - loss: 0.0209 - mean_squared_error: 0.0209\n"
     ]
    },
    {
     "data": {
      "text/plain": [
       "[0.020916134119033813, 0.020916134119033813]"
      ]
     },
     "execution_count": 25,
     "metadata": {},
     "output_type": "execute_result"
    }
   ],
   "source": [
    "model.evaluate(good_x, good_x)"
   ]
  },
  {
   "cell_type": "code",
   "execution_count": 26,
   "metadata": {},
   "outputs": [
    {
     "name": "stdout",
     "output_type": "stream",
     "text": [
      "47/47 [==============================] - 4s 2ms/step - loss: 0.0209 - mean_squared_error: 0.0209\n"
     ]
    },
    {
     "data": {
      "text/plain": [
       "2.0916134119033813"
      ]
     },
     "execution_count": 26,
     "metadata": {},
     "output_type": "execute_result"
    }
   ],
   "source": [
    "#Multiply by 100 to make sense of the error term:\n",
    "\n",
    "model.evaluate(good_x, good_x)[0]*100"
   ]
  },
  {
   "cell_type": "markdown",
   "metadata": {},
   "source": [
    "### Check the average MSE on the \"unknown\" data"
   ]
  },
  {
   "cell_type": "code",
   "execution_count": 27,
   "metadata": {},
   "outputs": [
    {
     "name": "stdout",
     "output_type": "stream",
     "text": [
      "32/32 [==============================] - 5s 2ms/step - loss: 0.1108 - mean_squared_error: 0.1108\n"
     ]
    },
    {
     "data": {
      "text/plain": [
       "[0.11080650240182877, 0.11080650240182877]"
      ]
     },
     "execution_count": 27,
     "metadata": {},
     "output_type": "execute_result"
    }
   ],
   "source": [
    "model.evaluate(unknown_x, unknown_x)"
   ]
  },
  {
   "cell_type": "code",
   "execution_count": 28,
   "metadata": {},
   "outputs": [
    {
     "name": "stdout",
     "output_type": "stream",
     "text": [
      "32/32 [==============================] - 5s 3ms/step - loss: 0.1108 - mean_squared_error: 0.1108\n"
     ]
    },
    {
     "data": {
      "text/plain": [
       "11.080650240182877"
      ]
     },
     "execution_count": 28,
     "metadata": {},
     "output_type": "execute_result"
    }
   ],
   "source": [
    "#Multiply by 100 to make sense of the error term:\n",
    "\n",
    "model.evaluate(unknown_x, unknown_x)[0]*100"
   ]
  },
  {
   "cell_type": "code",
   "execution_count": 29,
   "metadata": {},
   "outputs": [
    {
     "name": "stdout",
     "output_type": "stream",
     "text": [
      "1/1 [==============================] - 11s 11s/step\n",
      "21.808922863378605\n",
      "1/1 [==============================] - 8s 8s/step\n",
      "2.27550331493745\n",
      "1/1 [==============================] - 9s 9s/step\n",
      "5.2856192979220475\n",
      "1/1 [==============================] - 8s 8s/step\n",
      "0.15795223067802203\n",
      "1/1 [==============================] - 9s 9s/step\n",
      "1.7356653885343278\n",
      "1/1 [==============================] - 4s 4s/step\n",
      "0.8001369277406158\n",
      "1/1 [==============================] - 4s 4s/step\n",
      "2.5318034510241336\n",
      "1/1 [==============================] - 4s 4s/step\n",
      "1.4028946757676626\n",
      "1/1 [==============================] - 4s 4s/step\n",
      "170.1774907790515\n",
      "1/1 [==============================] - 4s 4s/step\n",
      "8.07259260806776\n",
      "1/1 [==============================] - 4s 4s/step\n",
      "2.744017007624983\n",
      "1/1 [==============================] - 4s 4s/step\n",
      "2.673122170824543\n",
      "1/1 [==============================] - 4s 4s/step\n",
      "1.7282940770005055\n",
      "1/1 [==============================] - 5s 5s/step\n",
      "0.3800351024394455\n",
      "1/1 [==============================] - 5s 5s/step\n",
      "10.949516720747239\n",
      "1/1 [==============================] - 4s 4s/step\n",
      "0.09044420988485215\n",
      "1/1 [==============================] - 4s 4s/step\n",
      "14.43529278741284\n",
      "1/1 [==============================] - 4s 4s/step\n",
      "1.4966127154869695\n",
      "1/1 [==============================] - 4s 4s/step\n",
      "2.5374040848505865\n",
      "1/1 [==============================] - 4s 4s/step\n",
      "0.48450099046738815\n"
     ]
    }
   ],
   "source": [
    "from sklearn.metrics import mean_squared_error\n",
    "\n",
    "for i in range(0,20):\n",
    "    prediction = model.predict(unknown_x[i:i+1])\n",
    "    print((mean_squared_error(unknown_x[i:i+1], prediction))*100)\n",
    "\n",
    "    \n",
    "#Error terms are multiplied by 100 to make sense of the numbers"
   ]
  },
  {
   "cell_type": "code",
   "execution_count": 30,
   "metadata": {},
   "outputs": [
    {
     "name": "stdout",
     "output_type": "stream",
     "text": [
      "1/1 [==============================] - 4s 4s/step\n",
      "0.37702512927165727\n",
      "1/1 [==============================] - 4s 4s/step\n",
      "6.750162167532078\n",
      "1/1 [==============================] - 4s 4s/step\n",
      "0.5420387961024069\n",
      "1/1 [==============================] - 4s 4s/step\n",
      "1.5997976117759765\n",
      "1/1 [==============================] - 4s 4s/step\n",
      "1.6081127784643185\n",
      "1/1 [==============================] - 4s 4s/step\n",
      "0.5174439162171733\n",
      "1/1 [==============================] - 4s 4s/step\n",
      "2.6680403921837126\n",
      "1/1 [==============================] - 4s 4s/step\n",
      "2.107385270535313\n",
      "1/1 [==============================] - 4s 4s/step\n",
      "2.5162582249978716\n",
      "1/1 [==============================] - 5s 5s/step\n",
      "0.8472039412225064\n",
      "1/1 [==============================] - 4s 4s/step\n",
      "1.2036493729118005\n",
      "1/1 [==============================] - 4s 4s/step\n",
      "0.7079651013624941\n",
      "1/1 [==============================] - 4s 4s/step\n",
      "0.3270156119894072\n",
      "1/1 [==============================] - 4s 4s/step\n",
      "2.0904911970763793\n",
      "1/1 [==============================] - 4s 4s/step\n",
      "0.25333185250318613\n",
      "1/1 [==============================] - 4s 4s/step\n",
      "0.2223954519854529\n",
      "1/1 [==============================] - 5s 5s/step\n",
      "0.6008758907841313\n",
      "1/1 [==============================] - 4s 4s/step\n",
      "1.717038479514626\n",
      "1/1 [==============================] - 5s 5s/step\n",
      "1.3555986470443617\n",
      "1/1 [==============================] - 4s 4s/step\n",
      "0.45011733717678376\n"
     ]
    }
   ],
   "source": [
    "for i in range(0,20):\n",
    "    prediction = model.predict(good_x[i:i+1])\n",
    "    print((mean_squared_error(good_x[i:i+1], prediction))*100)\n",
    "\n",
    "    \n",
    "#Error terms are multiplied by 100 to make sense of the numbers"
   ]
  },
  {
   "cell_type": "markdown",
   "metadata": {},
   "source": [
    "###\"unknown\" loans look like good loans or not?"
   ]
  },
  {
   "cell_type": "markdown",
   "metadata": {},
   "source": [
    "the unknown loads do not look like good loads. The reason is the MSE values for the good_x (times 100) is 2.09 and MSE for the unknown dataset has MSE (times 100) that is way higher at 11.08; which reflects that the unkown loans are not good loans.\n",
    "\n",
    "Also, 20 predictions from good loans and unknown dataset indicates the difference between the corresponding individual MSE values is very large."
   ]
  }
 ],
 "metadata": {
  "kernelspec": {
   "display_name": "Python 3 (ipykernel)",
   "language": "python",
   "name": "python3"
  },
  "language_info": {
   "codemirror_mode": {
    "name": "ipython",
    "version": 3
   },
   "file_extension": ".py",
   "mimetype": "text/x-python",
   "name": "python",
   "nbconvert_exporter": "python",
   "pygments_lexer": "ipython3",
   "version": "3.11.5"
  },
  "nav_menu": {
   "height": "279px",
   "width": "309px"
  },
  "toc": {
   "base_numbering": 1,
   "nav_menu": {},
   "number_sections": false,
   "sideBar": true,
   "skip_h1_title": false,
   "title_cell": "Table of Contents",
   "title_sidebar": "Contents",
   "toc_cell": false,
   "toc_position": {},
   "toc_section_display": "block",
   "toc_window_display": true
  }
 },
 "nbformat": 4,
 "nbformat_minor": 1
}
