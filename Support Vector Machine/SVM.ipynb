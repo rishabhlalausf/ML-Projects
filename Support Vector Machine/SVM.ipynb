{
 "cells": [
  {
   "cell_type": "markdown",
   "metadata": {},
   "source": [
    "# Exercise - SVM"
   ]
  },
  {
   "cell_type": "markdown",
   "metadata": {},
   "source": [
    "The data set for this exercise is from the banking industry. It contains data about the home loans of 2,500 bank clients. Each row represents a single loan. The columns include the characteristics of the client who used a loan. This is a binary classification task: predict whether a loan will be bad or not (1=Yes, 0=No). This is an important task for banks to prevent bad loans from being issued."
   ]
  },
  {
   "cell_type": "markdown",
   "metadata": {},
   "source": [
    "## Description of Variables\n",
    "\n",
    "The description of variables are provided in \"Loan - Data Dictionary.docx\""
   ]
  },
  {
   "cell_type": "markdown",
   "metadata": {},
   "source": [
    "## Goal\n",
    "\n",
    "Use the **loan.csv** data set and build a model to predict **BAD**. \n",
    "\n",
    "Since you have a relatively small data set, I recommend using cross-validation to evaluate your accuracy."
   ]
  },
  {
   "cell_type": "markdown",
   "metadata": {},
   "source": [
    "# Read and Prepare the Data"
   ]
  },
  {
   "cell_type": "code",
   "execution_count": 1,
   "metadata": {},
   "outputs": [],
   "source": [
    "# Common imports\n",
    "\n",
    "import pandas as pd\n",
    "import numpy as np\n",
    "\n",
    "np.random.seed(42)"
   ]
  },
  {
   "cell_type": "markdown",
   "metadata": {},
   "source": [
    "# Get the data"
   ]
  },
  {
   "cell_type": "code",
   "execution_count": 2,
   "metadata": {},
   "outputs": [
    {
     "data": {
      "text/html": [
       "<div>\n",
       "<style scoped>\n",
       "    .dataframe tbody tr th:only-of-type {\n",
       "        vertical-align: middle;\n",
       "    }\n",
       "\n",
       "    .dataframe tbody tr th {\n",
       "        vertical-align: top;\n",
       "    }\n",
       "\n",
       "    .dataframe thead th {\n",
       "        text-align: right;\n",
       "    }\n",
       "</style>\n",
       "<table border=\"1\" class=\"dataframe\">\n",
       "  <thead>\n",
       "    <tr style=\"text-align: right;\">\n",
       "      <th></th>\n",
       "      <th>BAD</th>\n",
       "      <th>LOAN</th>\n",
       "      <th>MORTDUE</th>\n",
       "      <th>VALUE</th>\n",
       "      <th>REASON</th>\n",
       "      <th>JOB</th>\n",
       "      <th>YOJ</th>\n",
       "      <th>DEROG</th>\n",
       "      <th>DELINQ</th>\n",
       "      <th>CLAGE</th>\n",
       "      <th>NINQ</th>\n",
       "      <th>CLNO</th>\n",
       "      <th>DEBTINC</th>\n",
       "    </tr>\n",
       "  </thead>\n",
       "  <tbody>\n",
       "    <tr>\n",
       "      <th>0</th>\n",
       "      <td>0</td>\n",
       "      <td>25900</td>\n",
       "      <td>61064.0</td>\n",
       "      <td>94714.0</td>\n",
       "      <td>DebtCon</td>\n",
       "      <td>Office</td>\n",
       "      <td>2.0</td>\n",
       "      <td>0.0</td>\n",
       "      <td>0.0</td>\n",
       "      <td>98.809375</td>\n",
       "      <td>0.0</td>\n",
       "      <td>23.0</td>\n",
       "      <td>34.565944</td>\n",
       "    </tr>\n",
       "    <tr>\n",
       "      <th>1</th>\n",
       "      <td>0</td>\n",
       "      <td>26100</td>\n",
       "      <td>113266.0</td>\n",
       "      <td>182082.0</td>\n",
       "      <td>DebtCon</td>\n",
       "      <td>Sales</td>\n",
       "      <td>18.0</td>\n",
       "      <td>0.0</td>\n",
       "      <td>0.0</td>\n",
       "      <td>304.852469</td>\n",
       "      <td>1.0</td>\n",
       "      <td>31.0</td>\n",
       "      <td>33.193949</td>\n",
       "    </tr>\n",
       "    <tr>\n",
       "      <th>2</th>\n",
       "      <td>1</td>\n",
       "      <td>50000</td>\n",
       "      <td>220528.0</td>\n",
       "      <td>300900.0</td>\n",
       "      <td>HomeImp</td>\n",
       "      <td>Self</td>\n",
       "      <td>5.0</td>\n",
       "      <td>0.0</td>\n",
       "      <td>0.0</td>\n",
       "      <td>0.000000</td>\n",
       "      <td>0.0</td>\n",
       "      <td>2.0</td>\n",
       "      <td>NaN</td>\n",
       "    </tr>\n",
       "    <tr>\n",
       "      <th>3</th>\n",
       "      <td>1</td>\n",
       "      <td>22400</td>\n",
       "      <td>51470.0</td>\n",
       "      <td>68139.0</td>\n",
       "      <td>DebtCon</td>\n",
       "      <td>Mgr</td>\n",
       "      <td>9.0</td>\n",
       "      <td>0.0</td>\n",
       "      <td>0.0</td>\n",
       "      <td>31.168696</td>\n",
       "      <td>2.0</td>\n",
       "      <td>8.0</td>\n",
       "      <td>37.952180</td>\n",
       "    </tr>\n",
       "    <tr>\n",
       "      <th>4</th>\n",
       "      <td>0</td>\n",
       "      <td>20900</td>\n",
       "      <td>62615.0</td>\n",
       "      <td>87904.0</td>\n",
       "      <td>DebtCon</td>\n",
       "      <td>Office</td>\n",
       "      <td>5.0</td>\n",
       "      <td>NaN</td>\n",
       "      <td>NaN</td>\n",
       "      <td>177.864849</td>\n",
       "      <td>NaN</td>\n",
       "      <td>15.0</td>\n",
       "      <td>36.831076</td>\n",
       "    </tr>\n",
       "  </tbody>\n",
       "</table>\n",
       "</div>"
      ],
      "text/plain": [
       "   BAD   LOAN   MORTDUE     VALUE   REASON     JOB   YOJ  DEROG  DELINQ  \\\n",
       "0    0  25900   61064.0   94714.0  DebtCon  Office   2.0    0.0     0.0   \n",
       "1    0  26100  113266.0  182082.0  DebtCon   Sales  18.0    0.0     0.0   \n",
       "2    1  50000  220528.0  300900.0  HomeImp    Self   5.0    0.0     0.0   \n",
       "3    1  22400   51470.0   68139.0  DebtCon     Mgr   9.0    0.0     0.0   \n",
       "4    0  20900   62615.0   87904.0  DebtCon  Office   5.0    NaN     NaN   \n",
       "\n",
       "        CLAGE  NINQ  CLNO    DEBTINC  \n",
       "0   98.809375   0.0  23.0  34.565944  \n",
       "1  304.852469   1.0  31.0  33.193949  \n",
       "2    0.000000   0.0   2.0        NaN  \n",
       "3   31.168696   2.0   8.0  37.952180  \n",
       "4  177.864849   NaN  15.0  36.831076  "
      ]
     },
     "execution_count": 2,
     "metadata": {},
     "output_type": "execute_result"
    }
   ],
   "source": [
    "#We will predict the \"price\" value in the data set:\n",
    "\n",
    "loan = pd.read_csv(\"loan.csv\")\n",
    "loan.head()"
   ]
  },
  {
   "cell_type": "markdown",
   "metadata": {},
   "source": [
    "# Split data (train/test)"
   ]
  },
  {
   "cell_type": "code",
   "execution_count": 3,
   "metadata": {},
   "outputs": [],
   "source": [
    "from sklearn.model_selection import train_test_split\n",
    "\n",
    "train, test = train_test_split(loan, test_size=0.3)"
   ]
  },
  {
   "cell_type": "markdown",
   "metadata": {},
   "source": [
    "# Data Prep\n",
    "\n",
    "Perform your data prep here. You can use pipelines like we do in the tutorials. Otherwise, feel free to use your own data prep steps. Eventually, you should do the following at a minimum:<br>\n",
    "- Separate inputs from target<br>\n",
    "- Impute/remove missing values<br>\n",
    "- Standardize the continuous variables<br>\n",
    "- One-hot encode categorical variables<br>"
   ]
  },
  {
   "cell_type": "code",
   "execution_count": 4,
   "metadata": {},
   "outputs": [],
   "source": [
    "from sklearn.compose import ColumnTransformer\n",
    "from sklearn.pipeline import Pipeline\n",
    "from sklearn.impute import SimpleImputer\n",
    "from sklearn.preprocessing import StandardScaler\n",
    "from sklearn.preprocessing import OneHotEncoder"
   ]
  },
  {
   "cell_type": "markdown",
   "metadata": {},
   "source": [
    "## Separate the target variable "
   ]
  },
  {
   "cell_type": "code",
   "execution_count": 5,
   "metadata": {},
   "outputs": [],
   "source": [
    "train_target = train['BAD']\n",
    "test_target = test['BAD']\n",
    "\n",
    "train_inputs = train.drop(['BAD'], axis=1)\n",
    "test_inputs = test.drop(['BAD'], axis=1)"
   ]
  },
  {
   "cell_type": "markdown",
   "metadata": {},
   "source": [
    "##  Identify the numeric, binary, and categorical columns"
   ]
  },
  {
   "cell_type": "code",
   "execution_count": 6,
   "metadata": {},
   "outputs": [],
   "source": [
    "# Identify the numerical columns\n",
    "numeric_columns = train_inputs.select_dtypes(include=[np.number]).columns.to_list()\n",
    "\n",
    "# Identify the categorical columns\n",
    "categorical_columns = train_inputs.select_dtypes('object').columns.to_list()"
   ]
  },
  {
   "cell_type": "code",
   "execution_count": 7,
   "metadata": {},
   "outputs": [
    {
     "data": {
      "text/plain": [
       "['LOAN',\n",
       " 'MORTDUE',\n",
       " 'VALUE',\n",
       " 'YOJ',\n",
       " 'DEROG',\n",
       " 'DELINQ',\n",
       " 'CLAGE',\n",
       " 'NINQ',\n",
       " 'CLNO',\n",
       " 'DEBTINC']"
      ]
     },
     "execution_count": 7,
     "metadata": {},
     "output_type": "execute_result"
    }
   ],
   "source": [
    "numeric_columns"
   ]
  },
  {
   "cell_type": "code",
   "execution_count": 8,
   "metadata": {},
   "outputs": [
    {
     "data": {
      "text/plain": [
       "['REASON', 'JOB']"
      ]
     },
     "execution_count": 8,
     "metadata": {},
     "output_type": "execute_result"
    }
   ],
   "source": [
    "categorical_columns"
   ]
  },
  {
   "cell_type": "markdown",
   "metadata": {},
   "source": [
    "# Pipeline"
   ]
  },
  {
   "cell_type": "code",
   "execution_count": 9,
   "metadata": {},
   "outputs": [],
   "source": [
    "numeric_transformer = Pipeline(steps=[\n",
    "                ('imputer', SimpleImputer(strategy='median')),\n",
    "                ('scaler', StandardScaler())])"
   ]
  },
  {
   "cell_type": "code",
   "execution_count": 10,
   "metadata": {},
   "outputs": [],
   "source": [
    "categorical_transformer = Pipeline(steps=[\n",
    "    ('imputer', SimpleImputer(strategy='constant', fill_value='unknown')),\n",
    "    ('onehot', OneHotEncoder(handle_unknown='ignore'))])"
   ]
  },
  {
   "cell_type": "code",
   "execution_count": 11,
   "metadata": {},
   "outputs": [],
   "source": [
    "preprocessor = ColumnTransformer([\n",
    "        ('num', numeric_transformer, numeric_columns),\n",
    "        ('cat', categorical_transformer, categorical_columns)],\n",
    "        remainder='passthrough')\n",
    "\n",
    "#passtrough is an optional step. You don't have to use it."
   ]
  },
  {
   "cell_type": "markdown",
   "metadata": {},
   "source": [
    "# Transform: fit_transform() for TRAIN"
   ]
  },
  {
   "cell_type": "code",
   "execution_count": 12,
   "metadata": {},
   "outputs": [
    {
     "data": {
      "text/plain": [
       "array([[-0.31412013, -1.30301181, -0.86148829, ...,  0.        ,\n",
       "         0.        ,  0.        ],\n",
       "       [ 0.45733454,  0.7398414 ,  0.58636192, ...,  1.        ,\n",
       "         0.        ,  0.        ],\n",
       "       [-1.10330939,  0.2001631 ,  0.18146318, ...,  0.        ,\n",
       "         0.        ,  0.        ],\n",
       "       ...,\n",
       "       [-0.21657988, -0.83000156, -0.82081329, ...,  0.        ,\n",
       "         0.        ,  0.        ],\n",
       "       [-0.46486414,  1.79196675,  1.36974799, ...,  0.        ,\n",
       "         0.        ,  0.        ],\n",
       "       [-0.31412013, -0.08740643, -0.21782887, ...,  0.        ,\n",
       "         0.        ,  0.        ]])"
      ]
     },
     "execution_count": 12,
     "metadata": {},
     "output_type": "execute_result"
    }
   ],
   "source": [
    "#Fit and transform the train data\n",
    "train_x = preprocessor.fit_transform(train_inputs)\n",
    "\n",
    "train_x"
   ]
  },
  {
   "cell_type": "code",
   "execution_count": 13,
   "metadata": {},
   "outputs": [
    {
     "data": {
      "text/plain": [
       "(1750, 20)"
      ]
     },
     "execution_count": 13,
     "metadata": {},
     "output_type": "execute_result"
    }
   ],
   "source": [
    "train_x.shape"
   ]
  },
  {
   "cell_type": "markdown",
   "metadata": {},
   "source": [
    "# Tranform: transform() for TEST"
   ]
  },
  {
   "cell_type": "code",
   "execution_count": 14,
   "metadata": {},
   "outputs": [
    {
     "data": {
      "text/plain": [
       "array([[ 0.06717356,  0.36706438,  0.32127798, ...,  0.        ,\n",
       "         0.        ,  0.        ],\n",
       "       [ 0.32432512,  0.57631513,  0.42769944, ...,  0.        ,\n",
       "         1.        ,  0.        ],\n",
       "       [-0.33185472,  0.41209537,  0.12227549, ...,  0.        ,\n",
       "         0.        ,  0.        ],\n",
       "       ...,\n",
       "       [-0.8993616 , -0.51071616, -0.32326299, ...,  0.        ,\n",
       "         0.        ,  0.        ],\n",
       "       [-0.5446698 , -0.82706576, -0.8366813 , ...,  0.        ,\n",
       "         0.        ,  0.        ],\n",
       "       [-0.5446698 , -0.06422056, -0.11380525, ...,  0.        ,\n",
       "         0.        ,  0.        ]])"
      ]
     },
     "execution_count": 14,
     "metadata": {},
     "output_type": "execute_result"
    }
   ],
   "source": [
    "# Transform the test data\n",
    "test_x = preprocessor.transform(test_inputs)\n",
    "\n",
    "test_x"
   ]
  },
  {
   "cell_type": "code",
   "execution_count": 15,
   "metadata": {},
   "outputs": [
    {
     "data": {
      "text/plain": [
       "(750, 20)"
      ]
     },
     "execution_count": 15,
     "metadata": {},
     "output_type": "execute_result"
    }
   ],
   "source": [
    "test_x.shape"
   ]
  },
  {
   "cell_type": "markdown",
   "metadata": {},
   "source": [
    "# Calculate the Baseline"
   ]
  },
  {
   "cell_type": "code",
   "execution_count": 16,
   "metadata": {},
   "outputs": [],
   "source": [
    "from sklearn.metrics import mean_squared_error"
   ]
  },
  {
   "cell_type": "code",
   "execution_count": 17,
   "metadata": {},
   "outputs": [
    {
     "data": {
      "text/plain": [
       "0.3965714285714286"
      ]
     },
     "execution_count": 17,
     "metadata": {},
     "output_type": "execute_result"
    }
   ],
   "source": [
    "#First find the average value of the target\n",
    "\n",
    "mean_value = np.mean(train_target)\n",
    "\n",
    "mean_value"
   ]
  },
  {
   "cell_type": "code",
   "execution_count": 18,
   "metadata": {},
   "outputs": [
    {
     "data": {
      "text/plain": [
       "array([0.39657143, 0.39657143, 0.39657143, 0.39657143, 0.39657143,\n",
       "       0.39657143, 0.39657143, 0.39657143, 0.39657143, 0.39657143,\n",
       "       0.39657143, 0.39657143, 0.39657143, 0.39657143, 0.39657143,\n",
       "       0.39657143, 0.39657143, 0.39657143, 0.39657143, 0.39657143,\n",
       "       0.39657143, 0.39657143, 0.39657143, 0.39657143, 0.39657143,\n",
       "       0.39657143, 0.39657143, 0.39657143, 0.39657143, 0.39657143,\n",
       "       0.39657143, 0.39657143, 0.39657143, 0.39657143, 0.39657143,\n",
       "       0.39657143, 0.39657143, 0.39657143, 0.39657143, 0.39657143,\n",
       "       0.39657143, 0.39657143, 0.39657143, 0.39657143, 0.39657143,\n",
       "       0.39657143, 0.39657143, 0.39657143, 0.39657143, 0.39657143,\n",
       "       0.39657143, 0.39657143, 0.39657143, 0.39657143, 0.39657143,\n",
       "       0.39657143, 0.39657143, 0.39657143, 0.39657143, 0.39657143,\n",
       "       0.39657143, 0.39657143, 0.39657143, 0.39657143, 0.39657143,\n",
       "       0.39657143, 0.39657143, 0.39657143, 0.39657143, 0.39657143,\n",
       "       0.39657143, 0.39657143, 0.39657143, 0.39657143, 0.39657143,\n",
       "       0.39657143, 0.39657143, 0.39657143, 0.39657143, 0.39657143,\n",
       "       0.39657143, 0.39657143, 0.39657143, 0.39657143, 0.39657143,\n",
       "       0.39657143, 0.39657143, 0.39657143, 0.39657143, 0.39657143,\n",
       "       0.39657143, 0.39657143, 0.39657143, 0.39657143, 0.39657143,\n",
       "       0.39657143, 0.39657143, 0.39657143, 0.39657143, 0.39657143,\n",
       "       0.39657143, 0.39657143, 0.39657143, 0.39657143, 0.39657143,\n",
       "       0.39657143, 0.39657143, 0.39657143, 0.39657143, 0.39657143,\n",
       "       0.39657143, 0.39657143, 0.39657143, 0.39657143, 0.39657143,\n",
       "       0.39657143, 0.39657143, 0.39657143, 0.39657143, 0.39657143,\n",
       "       0.39657143, 0.39657143, 0.39657143, 0.39657143, 0.39657143,\n",
       "       0.39657143, 0.39657143, 0.39657143, 0.39657143, 0.39657143,\n",
       "       0.39657143, 0.39657143, 0.39657143, 0.39657143, 0.39657143,\n",
       "       0.39657143, 0.39657143, 0.39657143, 0.39657143, 0.39657143,\n",
       "       0.39657143, 0.39657143, 0.39657143, 0.39657143, 0.39657143,\n",
       "       0.39657143, 0.39657143, 0.39657143, 0.39657143, 0.39657143,\n",
       "       0.39657143, 0.39657143, 0.39657143, 0.39657143, 0.39657143,\n",
       "       0.39657143, 0.39657143, 0.39657143, 0.39657143, 0.39657143,\n",
       "       0.39657143, 0.39657143, 0.39657143, 0.39657143, 0.39657143,\n",
       "       0.39657143, 0.39657143, 0.39657143, 0.39657143, 0.39657143,\n",
       "       0.39657143, 0.39657143, 0.39657143, 0.39657143, 0.39657143,\n",
       "       0.39657143, 0.39657143, 0.39657143, 0.39657143, 0.39657143,\n",
       "       0.39657143, 0.39657143, 0.39657143, 0.39657143, 0.39657143,\n",
       "       0.39657143, 0.39657143, 0.39657143, 0.39657143, 0.39657143,\n",
       "       0.39657143, 0.39657143, 0.39657143, 0.39657143, 0.39657143,\n",
       "       0.39657143, 0.39657143, 0.39657143, 0.39657143, 0.39657143,\n",
       "       0.39657143, 0.39657143, 0.39657143, 0.39657143, 0.39657143,\n",
       "       0.39657143, 0.39657143, 0.39657143, 0.39657143, 0.39657143,\n",
       "       0.39657143, 0.39657143, 0.39657143, 0.39657143, 0.39657143,\n",
       "       0.39657143, 0.39657143, 0.39657143, 0.39657143, 0.39657143,\n",
       "       0.39657143, 0.39657143, 0.39657143, 0.39657143, 0.39657143,\n",
       "       0.39657143, 0.39657143, 0.39657143, 0.39657143, 0.39657143,\n",
       "       0.39657143, 0.39657143, 0.39657143, 0.39657143, 0.39657143,\n",
       "       0.39657143, 0.39657143, 0.39657143, 0.39657143, 0.39657143,\n",
       "       0.39657143, 0.39657143, 0.39657143, 0.39657143, 0.39657143,\n",
       "       0.39657143, 0.39657143, 0.39657143, 0.39657143, 0.39657143,\n",
       "       0.39657143, 0.39657143, 0.39657143, 0.39657143, 0.39657143,\n",
       "       0.39657143, 0.39657143, 0.39657143, 0.39657143, 0.39657143,\n",
       "       0.39657143, 0.39657143, 0.39657143, 0.39657143, 0.39657143,\n",
       "       0.39657143, 0.39657143, 0.39657143, 0.39657143, 0.39657143,\n",
       "       0.39657143, 0.39657143, 0.39657143, 0.39657143, 0.39657143,\n",
       "       0.39657143, 0.39657143, 0.39657143, 0.39657143, 0.39657143,\n",
       "       0.39657143, 0.39657143, 0.39657143, 0.39657143, 0.39657143,\n",
       "       0.39657143, 0.39657143, 0.39657143, 0.39657143, 0.39657143,\n",
       "       0.39657143, 0.39657143, 0.39657143, 0.39657143, 0.39657143,\n",
       "       0.39657143, 0.39657143, 0.39657143, 0.39657143, 0.39657143,\n",
       "       0.39657143, 0.39657143, 0.39657143, 0.39657143, 0.39657143,\n",
       "       0.39657143, 0.39657143, 0.39657143, 0.39657143, 0.39657143,\n",
       "       0.39657143, 0.39657143, 0.39657143, 0.39657143, 0.39657143,\n",
       "       0.39657143, 0.39657143, 0.39657143, 0.39657143, 0.39657143,\n",
       "       0.39657143, 0.39657143, 0.39657143, 0.39657143, 0.39657143,\n",
       "       0.39657143, 0.39657143, 0.39657143, 0.39657143, 0.39657143,\n",
       "       0.39657143, 0.39657143, 0.39657143, 0.39657143, 0.39657143,\n",
       "       0.39657143, 0.39657143, 0.39657143, 0.39657143, 0.39657143,\n",
       "       0.39657143, 0.39657143, 0.39657143, 0.39657143, 0.39657143,\n",
       "       0.39657143, 0.39657143, 0.39657143, 0.39657143, 0.39657143,\n",
       "       0.39657143, 0.39657143, 0.39657143, 0.39657143, 0.39657143,\n",
       "       0.39657143, 0.39657143, 0.39657143, 0.39657143, 0.39657143,\n",
       "       0.39657143, 0.39657143, 0.39657143, 0.39657143, 0.39657143,\n",
       "       0.39657143, 0.39657143, 0.39657143, 0.39657143, 0.39657143,\n",
       "       0.39657143, 0.39657143, 0.39657143, 0.39657143, 0.39657143,\n",
       "       0.39657143, 0.39657143, 0.39657143, 0.39657143, 0.39657143,\n",
       "       0.39657143, 0.39657143, 0.39657143, 0.39657143, 0.39657143,\n",
       "       0.39657143, 0.39657143, 0.39657143, 0.39657143, 0.39657143,\n",
       "       0.39657143, 0.39657143, 0.39657143, 0.39657143, 0.39657143,\n",
       "       0.39657143, 0.39657143, 0.39657143, 0.39657143, 0.39657143,\n",
       "       0.39657143, 0.39657143, 0.39657143, 0.39657143, 0.39657143,\n",
       "       0.39657143, 0.39657143, 0.39657143, 0.39657143, 0.39657143,\n",
       "       0.39657143, 0.39657143, 0.39657143, 0.39657143, 0.39657143,\n",
       "       0.39657143, 0.39657143, 0.39657143, 0.39657143, 0.39657143,\n",
       "       0.39657143, 0.39657143, 0.39657143, 0.39657143, 0.39657143,\n",
       "       0.39657143, 0.39657143, 0.39657143, 0.39657143, 0.39657143,\n",
       "       0.39657143, 0.39657143, 0.39657143, 0.39657143, 0.39657143,\n",
       "       0.39657143, 0.39657143, 0.39657143, 0.39657143, 0.39657143,\n",
       "       0.39657143, 0.39657143, 0.39657143, 0.39657143, 0.39657143,\n",
       "       0.39657143, 0.39657143, 0.39657143, 0.39657143, 0.39657143,\n",
       "       0.39657143, 0.39657143, 0.39657143, 0.39657143, 0.39657143,\n",
       "       0.39657143, 0.39657143, 0.39657143, 0.39657143, 0.39657143,\n",
       "       0.39657143, 0.39657143, 0.39657143, 0.39657143, 0.39657143,\n",
       "       0.39657143, 0.39657143, 0.39657143, 0.39657143, 0.39657143,\n",
       "       0.39657143, 0.39657143, 0.39657143, 0.39657143, 0.39657143,\n",
       "       0.39657143, 0.39657143, 0.39657143, 0.39657143, 0.39657143,\n",
       "       0.39657143, 0.39657143, 0.39657143, 0.39657143, 0.39657143,\n",
       "       0.39657143, 0.39657143, 0.39657143, 0.39657143, 0.39657143,\n",
       "       0.39657143, 0.39657143, 0.39657143, 0.39657143, 0.39657143,\n",
       "       0.39657143, 0.39657143, 0.39657143, 0.39657143, 0.39657143,\n",
       "       0.39657143, 0.39657143, 0.39657143, 0.39657143, 0.39657143,\n",
       "       0.39657143, 0.39657143, 0.39657143, 0.39657143, 0.39657143,\n",
       "       0.39657143, 0.39657143, 0.39657143, 0.39657143, 0.39657143,\n",
       "       0.39657143, 0.39657143, 0.39657143, 0.39657143, 0.39657143,\n",
       "       0.39657143, 0.39657143, 0.39657143, 0.39657143, 0.39657143,\n",
       "       0.39657143, 0.39657143, 0.39657143, 0.39657143, 0.39657143,\n",
       "       0.39657143, 0.39657143, 0.39657143, 0.39657143, 0.39657143,\n",
       "       0.39657143, 0.39657143, 0.39657143, 0.39657143, 0.39657143,\n",
       "       0.39657143, 0.39657143, 0.39657143, 0.39657143, 0.39657143,\n",
       "       0.39657143, 0.39657143, 0.39657143, 0.39657143, 0.39657143,\n",
       "       0.39657143, 0.39657143, 0.39657143, 0.39657143, 0.39657143,\n",
       "       0.39657143, 0.39657143, 0.39657143, 0.39657143, 0.39657143,\n",
       "       0.39657143, 0.39657143, 0.39657143, 0.39657143, 0.39657143,\n",
       "       0.39657143, 0.39657143, 0.39657143, 0.39657143, 0.39657143,\n",
       "       0.39657143, 0.39657143, 0.39657143, 0.39657143, 0.39657143,\n",
       "       0.39657143, 0.39657143, 0.39657143, 0.39657143, 0.39657143,\n",
       "       0.39657143, 0.39657143, 0.39657143, 0.39657143, 0.39657143,\n",
       "       0.39657143, 0.39657143, 0.39657143, 0.39657143, 0.39657143,\n",
       "       0.39657143, 0.39657143, 0.39657143, 0.39657143, 0.39657143,\n",
       "       0.39657143, 0.39657143, 0.39657143, 0.39657143, 0.39657143,\n",
       "       0.39657143, 0.39657143, 0.39657143, 0.39657143, 0.39657143,\n",
       "       0.39657143, 0.39657143, 0.39657143, 0.39657143, 0.39657143,\n",
       "       0.39657143, 0.39657143, 0.39657143, 0.39657143, 0.39657143,\n",
       "       0.39657143, 0.39657143, 0.39657143, 0.39657143, 0.39657143,\n",
       "       0.39657143, 0.39657143, 0.39657143, 0.39657143, 0.39657143,\n",
       "       0.39657143, 0.39657143, 0.39657143, 0.39657143, 0.39657143,\n",
       "       0.39657143, 0.39657143, 0.39657143, 0.39657143, 0.39657143,\n",
       "       0.39657143, 0.39657143, 0.39657143, 0.39657143, 0.39657143,\n",
       "       0.39657143, 0.39657143, 0.39657143, 0.39657143, 0.39657143,\n",
       "       0.39657143, 0.39657143, 0.39657143, 0.39657143, 0.39657143,\n",
       "       0.39657143, 0.39657143, 0.39657143, 0.39657143, 0.39657143,\n",
       "       0.39657143, 0.39657143, 0.39657143, 0.39657143, 0.39657143,\n",
       "       0.39657143, 0.39657143, 0.39657143, 0.39657143, 0.39657143,\n",
       "       0.39657143, 0.39657143, 0.39657143, 0.39657143, 0.39657143,\n",
       "       0.39657143, 0.39657143, 0.39657143, 0.39657143, 0.39657143,\n",
       "       0.39657143, 0.39657143, 0.39657143, 0.39657143, 0.39657143,\n",
       "       0.39657143, 0.39657143, 0.39657143, 0.39657143, 0.39657143,\n",
       "       0.39657143, 0.39657143, 0.39657143, 0.39657143, 0.39657143,\n",
       "       0.39657143, 0.39657143, 0.39657143, 0.39657143, 0.39657143,\n",
       "       0.39657143, 0.39657143, 0.39657143, 0.39657143, 0.39657143,\n",
       "       0.39657143, 0.39657143, 0.39657143, 0.39657143, 0.39657143,\n",
       "       0.39657143, 0.39657143, 0.39657143, 0.39657143, 0.39657143,\n",
       "       0.39657143, 0.39657143, 0.39657143, 0.39657143, 0.39657143,\n",
       "       0.39657143, 0.39657143, 0.39657143, 0.39657143, 0.39657143,\n",
       "       0.39657143, 0.39657143, 0.39657143, 0.39657143, 0.39657143,\n",
       "       0.39657143, 0.39657143, 0.39657143, 0.39657143, 0.39657143,\n",
       "       0.39657143, 0.39657143, 0.39657143, 0.39657143, 0.39657143,\n",
       "       0.39657143, 0.39657143, 0.39657143, 0.39657143, 0.39657143,\n",
       "       0.39657143, 0.39657143, 0.39657143, 0.39657143, 0.39657143,\n",
       "       0.39657143, 0.39657143, 0.39657143, 0.39657143, 0.39657143])"
      ]
     },
     "execution_count": 18,
     "metadata": {},
     "output_type": "execute_result"
    }
   ],
   "source": [
    "# Predict all values as the mean\n",
    "\n",
    "baseline_pred = np.repeat(mean_value, len(test_target))\n",
    "\n",
    "baseline_pred\n"
   ]
  },
  {
   "cell_type": "code",
   "execution_count": 19,
   "metadata": {},
   "outputs": [
    {
     "data": {
      "text/plain": [
       "1447    0\n",
       "1114    0\n",
       "1064    0\n",
       "2287    1\n",
       "1537    1\n",
       "       ..\n",
       "427     1\n",
       "105     0\n",
       "2044    1\n",
       "121     1\n",
       "821     1\n",
       "Name: BAD, Length: 750, dtype: int64"
      ]
     },
     "execution_count": 19,
     "metadata": {},
     "output_type": "execute_result"
    }
   ],
   "source": [
    "test_target"
   ]
  },
  {
   "cell_type": "code",
   "execution_count": 20,
   "metadata": {},
   "outputs": [
    {
     "name": "stdout",
     "output_type": "stream",
     "text": [
      "Baseline RMSE: 0.49467213081676914\n"
     ]
    }
   ],
   "source": [
    "baseline_mse = mean_squared_error(test_target, baseline_pred)\n",
    "\n",
    "baseline_rmse = np.sqrt(baseline_mse)\n",
    "\n",
    "print('Baseline RMSE: {}' .format(baseline_rmse))"
   ]
  },
  {
   "cell_type": "markdown",
   "metadata": {},
   "source": [
    "## BASELINE CALCULATION (MANUALLY)"
   ]
  },
  {
   "cell_type": "code",
   "execution_count": 21,
   "metadata": {},
   "outputs": [
    {
     "data": {
      "text/plain": [
       "0    1056\n",
       "1     694\n",
       "Name: BAD, dtype: int64"
      ]
     },
     "execution_count": 21,
     "metadata": {},
     "output_type": "execute_result"
    }
   ],
   "source": [
    "# Find majority class_manually\n",
    "train_target.value_counts()"
   ]
  },
  {
   "cell_type": "code",
   "execution_count": 22,
   "metadata": {},
   "outputs": [
    {
     "data": {
      "text/plain": [
       "0    0.603429\n",
       "1    0.396571\n",
       "Name: BAD, dtype: float64"
      ]
     },
     "execution_count": 22,
     "metadata": {},
     "output_type": "execute_result"
    }
   ],
   "source": [
    "# Find percentage _ manually\n",
    "train_target.value_counts()/len(train_target)"
   ]
  },
  {
   "cell_type": "markdown",
   "metadata": {},
   "source": [
    "# Train an SVM model with linear kernel"
   ]
  },
  {
   "cell_type": "code",
   "execution_count": 23,
   "metadata": {},
   "outputs": [
    {
     "data": {
      "text/plain": [
       "SVC(kernel='linear')"
      ]
     },
     "execution_count": 23,
     "metadata": {},
     "output_type": "execute_result"
    }
   ],
   "source": [
    "from sklearn.svm import SVC\n",
    " \n",
    "lin_svm = SVC(kernel=\"linear\")\n",
    "\n",
    "lin_svm.fit(train_x, train_target)"
   ]
  },
  {
   "cell_type": "code",
   "execution_count": 24,
   "metadata": {},
   "outputs": [],
   "source": [
    "from sklearn.metrics import accuracy_score"
   ]
  },
  {
   "cell_type": "markdown",
   "metadata": {},
   "source": [
    "### Calculate the accuracy"
   ]
  },
  {
   "cell_type": "code",
   "execution_count": 25,
   "metadata": {},
   "outputs": [
    {
     "data": {
      "text/plain": [
       "0.7525714285714286"
      ]
     },
     "execution_count": 25,
     "metadata": {},
     "output_type": "execute_result"
    }
   ],
   "source": [
    "#Predict the train values\n",
    "train_y_pred = lin_svm.predict(train_x)\n",
    "\n",
    "#Train accuracy\n",
    "accuracy_score(train_target, train_y_pred)"
   ]
  },
  {
   "cell_type": "code",
   "execution_count": 32,
   "metadata": {},
   "outputs": [
    {
     "data": {
      "text/plain": [
       "(750, 20)"
      ]
     },
     "execution_count": 32,
     "metadata": {},
     "output_type": "execute_result"
    }
   ],
   "source": [
    "test_x.shape"
   ]
  },
  {
   "cell_type": "code",
   "execution_count": 33,
   "metadata": {},
   "outputs": [
    {
     "data": {
      "text/plain": [
       "0.7266666666666667"
      ]
     },
     "execution_count": 33,
     "metadata": {},
     "output_type": "execute_result"
    }
   ],
   "source": [
    "#Predict the test values\n",
    "test_y_pred = lin_svm.predict(test_x)\n",
    "\n",
    "#Test accuracy\n",
    "accuracy_score(test_target, test_y_pred)"
   ]
  },
  {
   "cell_type": "markdown",
   "metadata": {},
   "source": [
    "# Train an SVM model with poly kernel"
   ]
  },
  {
   "cell_type": "code",
   "execution_count": 34,
   "metadata": {},
   "outputs": [
    {
     "data": {
      "text/plain": [
       "SVC(C=10, coef0=1, kernel='poly')"
      ]
     },
     "execution_count": 34,
     "metadata": {},
     "output_type": "execute_result"
    }
   ],
   "source": [
    "from sklearn.svm import SVC\n",
    "\n",
    "# You need to enter a value for gamma. Remember, gamma controls the shape of the bell curve for rbf\n",
    "# You can also set it is as gamma='scale'. This will be the default option in future releases\n",
    "\n",
    "pol_svm = SVC(kernel=\"poly\", degree=3, coef0=1, C=10)\n",
    "\n",
    "pol_svm.fit(train_x, train_target)"
   ]
  },
  {
   "cell_type": "markdown",
   "metadata": {},
   "source": [
    "## Calculate the accuracy"
   ]
  },
  {
   "cell_type": "code",
   "execution_count": 36,
   "metadata": {},
   "outputs": [
    {
     "data": {
      "text/plain": [
       "0.8965714285714286"
      ]
     },
     "execution_count": 36,
     "metadata": {},
     "output_type": "execute_result"
    }
   ],
   "source": [
    "#Predict the train values\n",
    "train_y_pred = pol_svm.predict(train_x)\n",
    "\n",
    "#Train accuracy\n",
    "accuracy_score(train_target, train_y_pred)"
   ]
  },
  {
   "cell_type": "code",
   "execution_count": 37,
   "metadata": {},
   "outputs": [
    {
     "data": {
      "text/plain": [
       "0.8173333333333334"
      ]
     },
     "execution_count": 37,
     "metadata": {},
     "output_type": "execute_result"
    }
   ],
   "source": [
    "#Predict the test values\n",
    "test_y_pred = pol_svm.predict(test_x)\n",
    "\n",
    "#Test accuracy\n",
    "accuracy_score(test_target, test_y_pred)"
   ]
  },
  {
   "cell_type": "markdown",
   "metadata": {},
   "source": [
    "# Train an SVM model with rbf kernel"
   ]
  },
  {
   "cell_type": "code",
   "execution_count": 40,
   "metadata": {},
   "outputs": [
    {
     "data": {
      "text/plain": [
       "SVC(C=10)"
      ]
     },
     "execution_count": 40,
     "metadata": {},
     "output_type": "execute_result"
    }
   ],
   "source": [
    "rbf_svm = SVC(kernel=\"rbf\", C=10, gamma='scale')\n",
    "\n",
    "rbf_svm.fit(train_x, train_target)"
   ]
  },
  {
   "cell_type": "markdown",
   "metadata": {},
   "source": [
    "### Calculate the accuracy"
   ]
  },
  {
   "cell_type": "code",
   "execution_count": 42,
   "metadata": {},
   "outputs": [
    {
     "data": {
      "text/plain": [
       "0.9177142857142857"
      ]
     },
     "execution_count": 42,
     "metadata": {},
     "output_type": "execute_result"
    }
   ],
   "source": [
    "#Predict the train values\n",
    "train_y_pred = rbf_svm.predict(train_x)\n",
    "\n",
    "#Train accuracy\n",
    "accuracy_score(train_target, train_y_pred)"
   ]
  },
  {
   "cell_type": "code",
   "execution_count": 43,
   "metadata": {},
   "outputs": [
    {
     "data": {
      "text/plain": [
       "0.8453333333333334"
      ]
     },
     "execution_count": 43,
     "metadata": {},
     "output_type": "execute_result"
    }
   ],
   "source": [
    "#Predict the test values\n",
    "test_y_pred = rbf_svm.predict(test_x)\n",
    "\n",
    "#Test accuracy\n",
    "accuracy_score(test_target, test_y_pred)"
   ]
  }
 ],
 "metadata": {
  "kernelspec": {
   "display_name": "Python 3",
   "language": "python",
   "name": "python3"
  },
  "language_info": {
   "codemirror_mode": {
    "name": "ipython",
    "version": 3
   },
   "file_extension": ".py",
   "mimetype": "text/x-python",
   "name": "python",
   "nbconvert_exporter": "python",
   "pygments_lexer": "ipython3",
   "version": "3.6.2"
  },
  "nav_menu": {
   "height": "279px",
   "width": "309px"
  },
  "toc": {
   "base_numbering": 1,
   "nav_menu": {},
   "number_sections": false,
   "sideBar": true,
   "skip_h1_title": false,
   "title_cell": "Table of Contents",
   "title_sidebar": "Contents",
   "toc_cell": false,
   "toc_position": {},
   "toc_section_display": "block",
   "toc_window_display": true
  },
  "varInspector": {
   "cols": {
    "lenName": 16,
    "lenType": 16,
    "lenVar": 40
   },
   "kernels_config": {
    "python": {
     "delete_cmd_postfix": "",
     "delete_cmd_prefix": "del ",
     "library": "var_list.py",
     "varRefreshCmd": "print(var_dic_list())"
    },
    "r": {
     "delete_cmd_postfix": ") ",
     "delete_cmd_prefix": "rm(",
     "library": "var_list.r",
     "varRefreshCmd": "cat(var_dic_list()) "
    }
   },
   "types_to_exclude": [
    "module",
    "function",
    "builtin_function_or_method",
    "instance",
    "_Feature"
   ],
   "window_display": false
  }
 },
 "nbformat": 4,
 "nbformat_minor": 1
}
